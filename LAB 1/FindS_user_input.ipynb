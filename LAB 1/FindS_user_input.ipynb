{
 "cells": [
  {
   "cell_type": "code",
   "execution_count": 2,
   "id": "49e36eff-e5bb-4ad9-8b15-8109bbe23424",
   "metadata": {},
   "outputs": [
    {
     "name": "stdin",
     "output_type": "stream",
     "text": [
      "Enter the number of attributes  3\n",
      "Enter the number of rows  3\n"
     ]
    },
    {
     "name": "stdout",
     "output_type": "stream",
     "text": [
      "Enter the  3 ättributes\n",
      "Enter the name of  1  attribute \n"
     ]
    },
    {
     "name": "stdin",
     "output_type": "stream",
     "text": [
      " Time\n"
     ]
    },
    {
     "name": "stdout",
     "output_type": "stream",
     "text": [
      "Enter the name of  2  attribute \n"
     ]
    },
    {
     "name": "stdin",
     "output_type": "stream",
     "text": [
      " Weather\n"
     ]
    },
    {
     "name": "stdout",
     "output_type": "stream",
     "text": [
      "Enter the name of  3  attribute \n"
     ]
    },
    {
     "name": "stdin",
     "output_type": "stream",
     "text": [
      " Temperature\n"
     ]
    },
    {
     "name": "stdout",
     "output_type": "stream",
     "text": [
      "Ënter the values of  1  row\n",
      "Enter the values of attributes\n"
     ]
    },
    {
     "name": "stdin",
     "output_type": "stream",
     "text": [
      " Morning\n",
      " Rainy\n",
      " Cold\n"
     ]
    },
    {
     "name": "stdout",
     "output_type": "stream",
     "text": [
      "Ënter the values of  2  row\n",
      "Enter the values of attributes\n"
     ]
    },
    {
     "name": "stdin",
     "output_type": "stream",
     "text": [
      " Morning\n",
      " Sunny\n",
      " Moderate\n"
     ]
    },
    {
     "name": "stdout",
     "output_type": "stream",
     "text": [
      "Ënter the values of  3  row\n",
      "Enter the values of attributes\n"
     ]
    },
    {
     "name": "stdin",
     "output_type": "stream",
     "text": [
      " Evening\n",
      " Rainy\n",
      " Cold\n"
     ]
    },
    {
     "name": "stdout",
     "output_type": "stream",
     "text": [
      "Enter the target values\n",
      "Enter the value of  1  target\n"
     ]
    },
    {
     "name": "stdin",
     "output_type": "stream",
     "text": [
      " Yes\n"
     ]
    },
    {
     "name": "stdout",
     "output_type": "stream",
     "text": [
      "Enter the value of  2  target\n"
     ]
    },
    {
     "name": "stdin",
     "output_type": "stream",
     "text": [
      " No\n"
     ]
    },
    {
     "name": "stdout",
     "output_type": "stream",
     "text": [
      "Enter the value of  3  target\n"
     ]
    },
    {
     "name": "stdin",
     "output_type": "stream",
     "text": [
      " Yes\n"
     ]
    },
    {
     "name": "stdout",
     "output_type": "stream",
     "text": [
      "\n",
      " The final hypothesis is: ['?', 'Rainy', 'Cold']\n"
     ]
    }
   ],
   "source": [
    "import numpy as np\n",
    "import pandas as pd\n",
    "\n",
    "n=int(input(\"Enter the number of attributes \"))\n",
    "l=int(input(\"Enter the number of rows \"))\n",
    "\n",
    "print(\"Enter the \",n,\"ättributes\")\n",
    "attributes=[]\n",
    "for i in range(1,n+1):\n",
    "  print(\"Enter the name of \",i,\" attribute \")\n",
    "  name=input()\n",
    "    \n",
    "for i in range(1,l+1):\n",
    "  print(\"Ënter the values of \",i,\" row\")\n",
    "  print(\"Enter the values of attributes\")\n",
    "  res=[]\n",
    "  for j in range(1,l+1):\n",
    "    res.append(input())\n",
    "  attributes.append(res)\n",
    "\n",
    "print(\"Enter the target values\")\n",
    "target=[]\n",
    "for i in range(1,l+1):\n",
    "  print(\"Enter the value of \",i,\" target\")\n",
    "  x=input()\n",
    "  target.append(x)\n",
    "\n",
    "def findS(c,t):\n",
    "    for i, val in enumerate(t):\n",
    "        if val == \"Yes\":\n",
    "            specific_hypothesis = c[i].copy()\n",
    "            break\n",
    "             \n",
    "    for i, val in enumerate(c):\n",
    "        if t[i] == \"Yes\":\n",
    "            for x in range(len(specific_hypothesis)):\n",
    "                if val[x] != specific_hypothesis[x]:\n",
    "                    specific_hypothesis[x] = '?'\n",
    "                else:\n",
    "                    pass\n",
    "                 \n",
    "    return specific_hypothesis\n",
    "\n",
    "print(\"\\n The final hypothesis is:\",findS(attributes,target))"
   ]
  },
  {
   "cell_type": "code",
   "execution_count": null,
   "id": "b6997769-a388-400b-992c-aa7892761d3c",
   "metadata": {},
   "outputs": [],
   "source": []
  }
 ],
 "metadata": {
  "kernelspec": {
   "display_name": "Python 3 (ipykernel)",
   "language": "python",
   "name": "python3"
  },
  "language_info": {
   "codemirror_mode": {
    "name": "ipython",
    "version": 3
   },
   "file_extension": ".py",
   "mimetype": "text/x-python",
   "name": "python",
   "nbconvert_exporter": "python",
   "pygments_lexer": "ipython3",
   "version": "3.9.7"
  }
 },
 "nbformat": 4,
 "nbformat_minor": 5
}
