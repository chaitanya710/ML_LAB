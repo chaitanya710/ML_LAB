{
 "cells": [
  {
   "cell_type": "code",
   "execution_count": 2,
   "id": "4e98d335-375b-4aab-baf4-f513aa12a7bb",
   "metadata": {},
   "outputs": [
    {
     "name": "stdout",
     "output_type": "stream",
     "text": [
      "Data: \n",
      "['Time', 'Weather', 'Temperature', 'Company', 'Humidity', 'Wind', 'Goes']\n",
      "['Morning', 'Sunny', 'Warm', 'Yes', 'Mild', 'Strong', 'Yes']\n",
      "['Evening', 'Rainy', 'Cold', 'No', 'Mild', 'Normal', 'No']\n",
      "['Morning', 'Sunny', 'Moderate', 'Yes', 'Normal', 'Normal', 'Yes']\n",
      "['Evening', 'Sunny', 'Cold', 'Yes', 'High', 'Strong', 'Yes']\n",
      "\n",
      "Hypothesis:  ['?', 'Sunny', '?', 'Yes', '?', '?']\n"
     ]
    }
   ],
   "source": [
    "import csv\n",
    "\n",
    "def updateHypothesis(x,h):\n",
    "    if h==[]:\n",
    "        return x\n",
    "\n",
    "    for i in range(0,len(h)):\n",
    "        if x[i].upper()!=h[i].upper():\n",
    "            h[i] = '?'\n",
    "\n",
    "    return h\n",
    "\n",
    "if __name__ == \"__main__\":\n",
    "    data = []\n",
    "    h = []\n",
    "\n",
    "    # reading csv file\n",
    "    with open('Desktop/FindS.csv', 'r') as file:\n",
    "        reader = csv.reader(file)\n",
    "        print(\"Data: \")\n",
    "        for row in reader:\n",
    "            data.append(row)\n",
    "            print(row)\n",
    "\n",
    "    if data:\n",
    "        for x in data:\n",
    "            if x[-1].upper()==\"YES\":\n",
    "                x.pop() # removing last field\n",
    "                h = updateHypothesis(x,h)\n",
    "\n",
    "    print(\"\\nHypothesis: \",h)"
   ]
  },
  {
   "cell_type": "code",
   "execution_count": null,
   "id": "bf881ad9-05bf-4d3c-af11-358e988d3e21",
   "metadata": {},
   "outputs": [],
   "source": []
  }
 ],
 "metadata": {
  "kernelspec": {
   "display_name": "Python 3 (ipykernel)",
   "language": "python",
   "name": "python3"
  },
  "language_info": {
   "codemirror_mode": {
    "name": "ipython",
    "version": 3
   },
   "file_extension": ".py",
   "mimetype": "text/x-python",
   "name": "python",
   "nbconvert_exporter": "python",
   "pygments_lexer": "ipython3",
   "version": "3.9.7"
  }
 },
 "nbformat": 4,
 "nbformat_minor": 5
}
